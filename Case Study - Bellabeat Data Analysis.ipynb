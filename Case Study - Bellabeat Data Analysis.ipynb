{
 "cells": [
  {
   "cell_type": "markdown",
   "id": "7b28c899",
   "metadata": {},
   "source": [
    "# Case Study - Bellabeat Data Analysis"
   ]
  },
  {
   "cell_type": "markdown",
   "id": "8703d62a",
   "metadata": {},
   "source": [
    "# Introduction\n",
    "Bellabeat is a high-tech manufacturer of health-focused smart products for women. Collecting data on activity, sleep, stress, and reproductive health has allowed Bellabeat to empower women with knowledge about their own health and habits. Bellabeat is a successful small company, but they have the potential to become a larger player in the global smart device market. The range of products they offer are:\n",
    "* **Bellabeat app:** The Bellabeat app provides users with health data related to their activity, sleep, stress, menstrual cycle, and mindfulness habits. This data can help users better understand their current habits and make healthy decisions. The Bellabeat app connects to their line of smart wellness products.\n",
    "* **Leaf:** Bellabeat’s classic wellness tracker can be worn as a bracelet, necklace, or clip. The Leaf tracker connects to the Bellabeat app to track activity, sleep, and stress.\n",
    "* **Time:** This wellness watch combines the timeless look of a classic timepiece with smart technology to track user activity, sleep, and stress. The Time watch connects to the Bellabeat app to provide you with insights into your daily wellness.\n",
    "\n",
    "* **Spring:** This is a water bottle that tracks daily water intake using smart technology to ensure that you are appropriately hydrated throughout the day. The Spring bottle connects to the Bellabeat app to track your hydration levels.\n",
    "\n",
    "* **Bellabeat membership:** Bellabeat also offers a subscription-based membership program for users. Membership gives users 24/7 access to fully personalized guidance on nutrition, activity, sleep, health and beauty, and mindfulness based on their lifestyle and goals."
   ]
  },
  {
   "cell_type": "markdown",
   "id": "b7f791e5",
   "metadata": {},
   "source": [
    "# Business Task\n",
    "Analyze smart device usage data in order to gain insight into how consumers use non-Bellabeat smart devices. And then select one Bellabeat product to apply these insights to.\n"
   ]
  },
  {
   "cell_type": "markdown",
   "id": "abeff018",
   "metadata": {},
   "source": [
    "# Data Source\n",
    "FitBit Fitness Tracker Data (http://www.kaggle.com/arashnic/fitbit): This Kaggle data set contains personal fitness tracker from thirty fitbit users. Thirty eligible Fitbit users consented to the submission of personal tracker data, including minute-level output for physical activity, heart rate, and sleep monitoring. It includes information about daily activity, steps, and heart rate that can be used to explore users’ habits.\n",
    "\n",
    "Limitations with the dataset:\n",
    "\n",
    "* Unknown Demographics: Demographics of the users are not recorded in the dataset.\n",
    "* Small sample size: The data contains only 30 Fitbit users.\n",
    "* Small dataset: Only one month of activity data is available"
   ]
  },
  {
   "cell_type": "markdown",
   "id": "d2a3c78a",
   "metadata": {},
   "source": [
    "# Data Processing"
   ]
  },
  {
   "cell_type": "code",
   "execution_count": 1,
   "id": "fea8d166",
   "metadata": {},
   "outputs": [
    {
     "name": "stderr",
     "output_type": "stream",
     "text": [
      "Registered S3 methods overwritten by 'ggplot2':\n",
      "  method         from \n",
      "  [.quosures     rlang\n",
      "  c.quosures     rlang\n",
      "  print.quosures rlang\n",
      "Registered S3 method overwritten by 'rvest':\n",
      "  method            from\n",
      "  read_xml.response xml2\n",
      "-- Attaching packages --------------------------------------- tidyverse 1.2.1 --\n",
      "v ggplot2 3.1.1       v purrr   0.3.2  \n",
      "v tibble  2.1.1       v dplyr   0.8.0.1\n",
      "v tidyr   0.8.3       v stringr 1.4.0  \n",
      "v readr   1.3.1       v forcats 0.4.0  \n",
      "-- Conflicts ------------------------------------------ tidyverse_conflicts() --\n",
      "x dplyr::filter() masks stats::filter()\n",
      "x dplyr::lag()    masks stats::lag()\n",
      "\n",
      "Attaching package: 'reshape2'\n",
      "\n",
      "The following object is masked from 'package:tidyr':\n",
      "\n",
      "    smiths\n",
      "\n"
     ]
    }
   ],
   "source": [
    "#Loading packages\n",
    "library(tidyverse)\n",
    "library(reshape2)"
   ]
  },
  {
   "cell_type": "code",
   "execution_count": 2,
   "id": "2bfeeac7",
   "metadata": {},
   "outputs": [],
   "source": [
    "#Importing datasets\n",
    "daily_activity <- read.csv(\"C:/Users/chack/Desktop/Fitabase Data 4.12.16-5.12.16/dailyActivity_merged.csv\")\n",
    "sleep_day <- read.csv(\"C:/Users/chack/Desktop/Fitabase Data 4.12.16-5.12.16/sleepDay_merged.csv\")\n",
    "hourly_intensities<-read.csv(\"C:/Users/chack/Desktop/Fitabase Data 4.12.16-5.12.16/hourlyIntensities_merged.csv\")"
   ]
  },
  {
   "cell_type": "code",
   "execution_count": 3,
   "id": "46e4ff99",
   "metadata": {},
   "outputs": [
    {
     "data": {
      "text/html": [
       "<table>\n",
       "<thead><tr><th scope=col>Id</th><th scope=col>SleepDay</th><th scope=col>TotalSleepRecords</th><th scope=col>TotalMinutesAsleep</th><th scope=col>TotalTimeInBed</th></tr></thead>\n",
       "<tbody>\n",
       "\t<tr><td>1503960366           </td><td>4/12/2016 12:00:00 AM</td><td>1                    </td><td>327                  </td><td>346                  </td></tr>\n",
       "\t<tr><td>1503960366           </td><td>4/13/2016 12:00:00 AM</td><td>2                    </td><td>384                  </td><td>407                  </td></tr>\n",
       "\t<tr><td>1503960366           </td><td>4/15/2016 12:00:00 AM</td><td>1                    </td><td>412                  </td><td>442                  </td></tr>\n",
       "\t<tr><td>1503960366           </td><td>4/16/2016 12:00:00 AM</td><td>2                    </td><td>340                  </td><td>367                  </td></tr>\n",
       "\t<tr><td>1503960366           </td><td>4/17/2016 12:00:00 AM</td><td>1                    </td><td>700                  </td><td>712                  </td></tr>\n",
       "\t<tr><td>1503960366           </td><td>4/19/2016 12:00:00 AM</td><td>1                    </td><td>304                  </td><td>320                  </td></tr>\n",
       "</tbody>\n",
       "</table>\n"
      ],
      "text/latex": [
       "\\begin{tabular}{r|lllll}\n",
       " Id & SleepDay & TotalSleepRecords & TotalMinutesAsleep & TotalTimeInBed\\\\\n",
       "\\hline\n",
       "\t 1503960366            & 4/12/2016 12:00:00 AM & 1                     & 327                   & 346                  \\\\\n",
       "\t 1503960366            & 4/13/2016 12:00:00 AM & 2                     & 384                   & 407                  \\\\\n",
       "\t 1503960366            & 4/15/2016 12:00:00 AM & 1                     & 412                   & 442                  \\\\\n",
       "\t 1503960366            & 4/16/2016 12:00:00 AM & 2                     & 340                   & 367                  \\\\\n",
       "\t 1503960366            & 4/17/2016 12:00:00 AM & 1                     & 700                   & 712                  \\\\\n",
       "\t 1503960366            & 4/19/2016 12:00:00 AM & 1                     & 304                   & 320                  \\\\\n",
       "\\end{tabular}\n"
      ],
      "text/markdown": [
       "\n",
       "| Id | SleepDay | TotalSleepRecords | TotalMinutesAsleep | TotalTimeInBed |\n",
       "|---|---|---|---|---|\n",
       "| 1503960366            | 4/12/2016 12:00:00 AM | 1                     | 327                   | 346                   |\n",
       "| 1503960366            | 4/13/2016 12:00:00 AM | 2                     | 384                   | 407                   |\n",
       "| 1503960366            | 4/15/2016 12:00:00 AM | 1                     | 412                   | 442                   |\n",
       "| 1503960366            | 4/16/2016 12:00:00 AM | 2                     | 340                   | 367                   |\n",
       "| 1503960366            | 4/17/2016 12:00:00 AM | 1                     | 700                   | 712                   |\n",
       "| 1503960366            | 4/19/2016 12:00:00 AM | 1                     | 304                   | 320                   |\n",
       "\n"
      ],
      "text/plain": [
       "  Id         SleepDay              TotalSleepRecords TotalMinutesAsleep\n",
       "1 1503960366 4/12/2016 12:00:00 AM 1                 327               \n",
       "2 1503960366 4/13/2016 12:00:00 AM 2                 384               \n",
       "3 1503960366 4/15/2016 12:00:00 AM 1                 412               \n",
       "4 1503960366 4/16/2016 12:00:00 AM 2                 340               \n",
       "5 1503960366 4/17/2016 12:00:00 AM 1                 700               \n",
       "6 1503960366 4/19/2016 12:00:00 AM 1                 304               \n",
       "  TotalTimeInBed\n",
       "1 346           \n",
       "2 407           \n",
       "3 442           \n",
       "4 367           \n",
       "5 712           \n",
       "6 320           "
      ]
     },
     "metadata": {},
     "output_type": "display_data"
    },
    {
     "data": {
      "text/html": [
       "<table>\n",
       "<thead><tr><th scope=col>Id</th><th scope=col>ActivityHour</th><th scope=col>TotalIntensity</th><th scope=col>AverageIntensity</th></tr></thead>\n",
       "<tbody>\n",
       "\t<tr><td>1503960366           </td><td>4/12/2016 12:00:00 AM</td><td>20                   </td><td>0.333333             </td></tr>\n",
       "\t<tr><td>1503960366           </td><td>4/12/2016 1:00:00 AM </td><td> 8                   </td><td>0.133333             </td></tr>\n",
       "\t<tr><td>1503960366           </td><td>4/12/2016 2:00:00 AM </td><td> 7                   </td><td>0.116667             </td></tr>\n",
       "\t<tr><td>1503960366           </td><td>4/12/2016 3:00:00 AM </td><td> 0                   </td><td>0.000000             </td></tr>\n",
       "\t<tr><td>1503960366           </td><td>4/12/2016 4:00:00 AM </td><td> 0                   </td><td>0.000000             </td></tr>\n",
       "\t<tr><td>1503960366           </td><td>4/12/2016 5:00:00 AM </td><td> 0                   </td><td>0.000000             </td></tr>\n",
       "</tbody>\n",
       "</table>\n"
      ],
      "text/latex": [
       "\\begin{tabular}{r|llll}\n",
       " Id & ActivityHour & TotalIntensity & AverageIntensity\\\\\n",
       "\\hline\n",
       "\t 1503960366            & 4/12/2016 12:00:00 AM & 20                    & 0.333333             \\\\\n",
       "\t 1503960366            & 4/12/2016 1:00:00 AM  &  8                    & 0.133333             \\\\\n",
       "\t 1503960366            & 4/12/2016 2:00:00 AM  &  7                    & 0.116667             \\\\\n",
       "\t 1503960366            & 4/12/2016 3:00:00 AM  &  0                    & 0.000000             \\\\\n",
       "\t 1503960366            & 4/12/2016 4:00:00 AM  &  0                    & 0.000000             \\\\\n",
       "\t 1503960366            & 4/12/2016 5:00:00 AM  &  0                    & 0.000000             \\\\\n",
       "\\end{tabular}\n"
      ],
      "text/markdown": [
       "\n",
       "| Id | ActivityHour | TotalIntensity | AverageIntensity |\n",
       "|---|---|---|---|\n",
       "| 1503960366            | 4/12/2016 12:00:00 AM | 20                    | 0.333333              |\n",
       "| 1503960366            | 4/12/2016 1:00:00 AM  |  8                    | 0.133333              |\n",
       "| 1503960366            | 4/12/2016 2:00:00 AM  |  7                    | 0.116667              |\n",
       "| 1503960366            | 4/12/2016 3:00:00 AM  |  0                    | 0.000000              |\n",
       "| 1503960366            | 4/12/2016 4:00:00 AM  |  0                    | 0.000000              |\n",
       "| 1503960366            | 4/12/2016 5:00:00 AM  |  0                    | 0.000000              |\n",
       "\n"
      ],
      "text/plain": [
       "  Id         ActivityHour          TotalIntensity AverageIntensity\n",
       "1 1503960366 4/12/2016 12:00:00 AM 20             0.333333        \n",
       "2 1503960366 4/12/2016 1:00:00 AM   8             0.133333        \n",
       "3 1503960366 4/12/2016 2:00:00 AM   7             0.116667        \n",
       "4 1503960366 4/12/2016 3:00:00 AM   0             0.000000        \n",
       "5 1503960366 4/12/2016 4:00:00 AM   0             0.000000        \n",
       "6 1503960366 4/12/2016 5:00:00 AM   0             0.000000        "
      ]
     },
     "metadata": {},
     "output_type": "display_data"
    },
    {
     "data": {
      "text/html": [
       "<table>\n",
       "<thead><tr><th scope=col>Id</th><th scope=col>ActivityDate</th><th scope=col>TotalSteps</th><th scope=col>TotalDistance</th><th scope=col>TrackerDistance</th><th scope=col>LoggedActivitiesDistance</th><th scope=col>VeryActiveDistance</th><th scope=col>ModeratelyActiveDistance</th><th scope=col>LightActiveDistance</th><th scope=col>SedentaryActiveDistance</th><th scope=col>VeryActiveMinutes</th><th scope=col>FairlyActiveMinutes</th><th scope=col>LightlyActiveMinutes</th><th scope=col>SedentaryMinutes</th><th scope=col>Calories</th></tr></thead>\n",
       "<tbody>\n",
       "\t<tr><td>1503960366</td><td>4/12/2016 </td><td>13162     </td><td>8.50      </td><td>8.50      </td><td>0         </td><td>1.88      </td><td>0.55      </td><td>6.06      </td><td>0         </td><td>25        </td><td>13        </td><td>328       </td><td> 728      </td><td>1985      </td></tr>\n",
       "\t<tr><td>1503960366</td><td>4/13/2016 </td><td>10735     </td><td>6.97      </td><td>6.97      </td><td>0         </td><td>1.57      </td><td>0.69      </td><td>4.71      </td><td>0         </td><td>21        </td><td>19        </td><td>217       </td><td> 776      </td><td>1797      </td></tr>\n",
       "\t<tr><td>1503960366</td><td>4/14/2016 </td><td>10460     </td><td>6.74      </td><td>6.74      </td><td>0         </td><td>2.44      </td><td>0.40      </td><td>3.91      </td><td>0         </td><td>30        </td><td>11        </td><td>181       </td><td>1218      </td><td>1776      </td></tr>\n",
       "\t<tr><td>1503960366</td><td>4/15/2016 </td><td> 9762     </td><td>6.28      </td><td>6.28      </td><td>0         </td><td>2.14      </td><td>1.26      </td><td>2.83      </td><td>0         </td><td>29        </td><td>34        </td><td>209       </td><td> 726      </td><td>1745      </td></tr>\n",
       "\t<tr><td>1503960366</td><td>4/16/2016 </td><td>12669     </td><td>8.16      </td><td>8.16      </td><td>0         </td><td>2.71      </td><td>0.41      </td><td>5.04      </td><td>0         </td><td>36        </td><td>10        </td><td>221       </td><td> 773      </td><td>1863      </td></tr>\n",
       "\t<tr><td>1503960366</td><td>4/17/2016 </td><td> 9705     </td><td>6.48      </td><td>6.48      </td><td>0         </td><td>3.19      </td><td>0.78      </td><td>2.51      </td><td>0         </td><td>38        </td><td>20        </td><td>164       </td><td> 539      </td><td>1728      </td></tr>\n",
       "</tbody>\n",
       "</table>\n"
      ],
      "text/latex": [
       "\\begin{tabular}{r|lllllllllllllll}\n",
       " Id & ActivityDate & TotalSteps & TotalDistance & TrackerDistance & LoggedActivitiesDistance & VeryActiveDistance & ModeratelyActiveDistance & LightActiveDistance & SedentaryActiveDistance & VeryActiveMinutes & FairlyActiveMinutes & LightlyActiveMinutes & SedentaryMinutes & Calories\\\\\n",
       "\\hline\n",
       "\t 1503960366 & 4/12/2016  & 13162      & 8.50       & 8.50       & 0          & 1.88       & 0.55       & 6.06       & 0          & 25         & 13         & 328        &  728       & 1985      \\\\\n",
       "\t 1503960366 & 4/13/2016  & 10735      & 6.97       & 6.97       & 0          & 1.57       & 0.69       & 4.71       & 0          & 21         & 19         & 217        &  776       & 1797      \\\\\n",
       "\t 1503960366 & 4/14/2016  & 10460      & 6.74       & 6.74       & 0          & 2.44       & 0.40       & 3.91       & 0          & 30         & 11         & 181        & 1218       & 1776      \\\\\n",
       "\t 1503960366 & 4/15/2016  &  9762      & 6.28       & 6.28       & 0          & 2.14       & 1.26       & 2.83       & 0          & 29         & 34         & 209        &  726       & 1745      \\\\\n",
       "\t 1503960366 & 4/16/2016  & 12669      & 8.16       & 8.16       & 0          & 2.71       & 0.41       & 5.04       & 0          & 36         & 10         & 221        &  773       & 1863      \\\\\n",
       "\t 1503960366 & 4/17/2016  &  9705      & 6.48       & 6.48       & 0          & 3.19       & 0.78       & 2.51       & 0          & 38         & 20         & 164        &  539       & 1728      \\\\\n",
       "\\end{tabular}\n"
      ],
      "text/markdown": [
       "\n",
       "| Id | ActivityDate | TotalSteps | TotalDistance | TrackerDistance | LoggedActivitiesDistance | VeryActiveDistance | ModeratelyActiveDistance | LightActiveDistance | SedentaryActiveDistance | VeryActiveMinutes | FairlyActiveMinutes | LightlyActiveMinutes | SedentaryMinutes | Calories |\n",
       "|---|---|---|---|---|---|---|---|---|---|---|---|---|---|---|\n",
       "| 1503960366 | 4/12/2016  | 13162      | 8.50       | 8.50       | 0          | 1.88       | 0.55       | 6.06       | 0          | 25         | 13         | 328        |  728       | 1985       |\n",
       "| 1503960366 | 4/13/2016  | 10735      | 6.97       | 6.97       | 0          | 1.57       | 0.69       | 4.71       | 0          | 21         | 19         | 217        |  776       | 1797       |\n",
       "| 1503960366 | 4/14/2016  | 10460      | 6.74       | 6.74       | 0          | 2.44       | 0.40       | 3.91       | 0          | 30         | 11         | 181        | 1218       | 1776       |\n",
       "| 1503960366 | 4/15/2016  |  9762      | 6.28       | 6.28       | 0          | 2.14       | 1.26       | 2.83       | 0          | 29         | 34         | 209        |  726       | 1745       |\n",
       "| 1503960366 | 4/16/2016  | 12669      | 8.16       | 8.16       | 0          | 2.71       | 0.41       | 5.04       | 0          | 36         | 10         | 221        |  773       | 1863       |\n",
       "| 1503960366 | 4/17/2016  |  9705      | 6.48       | 6.48       | 0          | 3.19       | 0.78       | 2.51       | 0          | 38         | 20         | 164        |  539       | 1728       |\n",
       "\n"
      ],
      "text/plain": [
       "  Id         ActivityDate TotalSteps TotalDistance TrackerDistance\n",
       "1 1503960366 4/12/2016    13162      8.50          8.50           \n",
       "2 1503960366 4/13/2016    10735      6.97          6.97           \n",
       "3 1503960366 4/14/2016    10460      6.74          6.74           \n",
       "4 1503960366 4/15/2016     9762      6.28          6.28           \n",
       "5 1503960366 4/16/2016    12669      8.16          8.16           \n",
       "6 1503960366 4/17/2016     9705      6.48          6.48           \n",
       "  LoggedActivitiesDistance VeryActiveDistance ModeratelyActiveDistance\n",
       "1 0                        1.88               0.55                    \n",
       "2 0                        1.57               0.69                    \n",
       "3 0                        2.44               0.40                    \n",
       "4 0                        2.14               1.26                    \n",
       "5 0                        2.71               0.41                    \n",
       "6 0                        3.19               0.78                    \n",
       "  LightActiveDistance SedentaryActiveDistance VeryActiveMinutes\n",
       "1 6.06                0                       25               \n",
       "2 4.71                0                       21               \n",
       "3 3.91                0                       30               \n",
       "4 2.83                0                       29               \n",
       "5 5.04                0                       36               \n",
       "6 2.51                0                       38               \n",
       "  FairlyActiveMinutes LightlyActiveMinutes SedentaryMinutes Calories\n",
       "1 13                  328                   728             1985    \n",
       "2 19                  217                   776             1797    \n",
       "3 11                  181                  1218             1776    \n",
       "4 34                  209                   726             1745    \n",
       "5 10                  221                   773             1863    \n",
       "6 20                  164                   539             1728    "
      ]
     },
     "metadata": {},
     "output_type": "display_data"
    }
   ],
   "source": [
    "#Viewing data\n",
    "head(sleep_day)\n",
    "head(hourly_intensities)\n",
    "head(daily_activity)"
   ]
  },
  {
   "cell_type": "code",
   "execution_count": 4,
   "id": "17adbad5",
   "metadata": {},
   "outputs": [
    {
     "data": {
      "text/html": [
       "33"
      ],
      "text/latex": [
       "33"
      ],
      "text/markdown": [
       "33"
      ],
      "text/plain": [
       "[1] 33"
      ]
     },
     "metadata": {},
     "output_type": "display_data"
    },
    {
     "data": {
      "text/html": [
       "24"
      ],
      "text/latex": [
       "24"
      ],
      "text/markdown": [
       "24"
      ],
      "text/plain": [
       "[1] 24"
      ]
     },
     "metadata": {},
     "output_type": "display_data"
    },
    {
     "data": {
      "text/html": [
       "33"
      ],
      "text/latex": [
       "33"
      ],
      "text/markdown": [
       "33"
      ],
      "text/plain": [
       "[1] 33"
      ]
     },
     "metadata": {},
     "output_type": "display_data"
    }
   ],
   "source": [
    "n_distinct(daily_activity$Id)\n",
    "n_distinct(sleep_day$Id)\n",
    "n_distinct(hourly_intensities$Id)"
   ]
  },
  {
   "cell_type": "code",
   "execution_count": 5,
   "id": "7a59fec6",
   "metadata": {},
   "outputs": [
    {
     "data": {
      "text/html": [
       "940"
      ],
      "text/latex": [
       "940"
      ],
      "text/markdown": [
       "940"
      ],
      "text/plain": [
       "[1] 940"
      ]
     },
     "metadata": {},
     "output_type": "display_data"
    },
    {
     "data": {
      "text/html": [
       "413"
      ],
      "text/latex": [
       "413"
      ],
      "text/markdown": [
       "413"
      ],
      "text/plain": [
       "[1] 413"
      ]
     },
     "metadata": {},
     "output_type": "display_data"
    },
    {
     "data": {
      "text/html": [
       "22099"
      ],
      "text/latex": [
       "22099"
      ],
      "text/markdown": [
       "22099"
      ],
      "text/plain": [
       "[1] 22099"
      ]
     },
     "metadata": {},
     "output_type": "display_data"
    }
   ],
   "source": [
    "#Finding the number of observations in each dataframe\n",
    "nrow(daily_activity)\n",
    "nrow(sleep_day)\n",
    "nrow(hourly_intensities)"
   ]
  },
  {
   "cell_type": "code",
   "execution_count": 6,
   "id": "845c0005",
   "metadata": {},
   "outputs": [],
   "source": [
    "#Changing the format of date\n",
    "daily_activity$ActivityDate <- as.POSIXct(daily_activity$ActivityDate, format=\"%m/%d/%Y\", tz=\"UTC\")\n",
    "hourly_intensities$ActivityHour=as.POSIXct(hourly_intensities$ActivityHour, format=\"%m/%d/%Y %I:%M:%S %p\", tz=\"UTC\")\n",
    "sleep_day$SleepDay=as.POSIXct(sleep_day$SleepDay, format=\"%m/%d/%Y %I:%M:%S %p\", tz=\"UTC\")\n",
    "hourly_intensities$Time <- format(hourly_intensities$ActivityHour, format = \"%H:%M:%S\")\n",
    "hourly_intensities$Date <- format(hourly_intensities$ActivityHour, format = \"%m/%d/%y\")\n",
    "sleep_day$Date <- format(sleep_day$SleepDay, format = \"%m/%d/%y\")\n",
    "sleep_day$Day <- weekdays(sleep_day$SleepDay)\n",
    "sleep_day$Day <- ordered(sleep_day$Day, levels=c(\"Monday\", \"Tuesday\", \"Wednesday\", \"Thursday\", \"Friday\", \"Saturday\", \"Sunday\"))\n",
    "hourly_intensities$day <- weekdays(hourly_intensities$ActivityHour)\n",
    "hourly_intensities$day <- ordered(hourly_intensities$day, levels=c(\"Monday\", \"Tuesday\", \"Wednesday\", \"Thursday\", \"Friday\", \"Saturday\", \"Sunday\"))"
   ]
  },
  {
   "cell_type": "code",
   "execution_count": 7,
   "id": "a0eefa95",
   "metadata": {},
   "outputs": [],
   "source": [
    "#Removing duplicate entries\n",
    "daily_activity <- daily_activity %>% distinct()\n",
    "sleep_day <- sleep_day %>% distinct()\n",
    "hourly_intensities <- hourly_intensities %>% distinct()"
   ]
  },
  {
   "cell_type": "code",
   "execution_count": 8,
   "id": "a8033771",
   "metadata": {},
   "outputs": [
    {
     "data": {
      "text/html": [
       "940"
      ],
      "text/latex": [
       "940"
      ],
      "text/markdown": [
       "940"
      ],
      "text/plain": [
       "[1] 940"
      ]
     },
     "metadata": {},
     "output_type": "display_data"
    },
    {
     "data": {
      "text/html": [
       "410"
      ],
      "text/latex": [
       "410"
      ],
      "text/markdown": [
       "410"
      ],
      "text/plain": [
       "[1] 410"
      ]
     },
     "metadata": {},
     "output_type": "display_data"
    },
    {
     "data": {
      "text/html": [
       "22099"
      ],
      "text/latex": [
       "22099"
      ],
      "text/markdown": [
       "22099"
      ],
      "text/plain": [
       "[1] 22099"
      ]
     },
     "metadata": {},
     "output_type": "display_data"
    }
   ],
   "source": [
    "nrow(daily_activity)\n",
    "nrow(sleep_day)\n",
    "nrow(hourly_intensities)"
   ]
  },
  {
   "cell_type": "markdown",
   "id": "557402fe",
   "metadata": {},
   "source": [
    "We can see here that duplicate entries have been removed from *sleep_day*. (The no. of entries changed from 413 to 410)"
   ]
  },
  {
   "cell_type": "code",
   "execution_count": 9,
   "id": "c504aacd",
   "metadata": {},
   "outputs": [],
   "source": [
    "#Converting minutes to hours\n",
    "sleep_day<- sleep_day %>% \n",
    "    mutate(TotalHoursAsleep= TotalMinutesAsleep/60) %>% \n",
    "    mutate(TotalHoursInBed = TotalTimeInBed/60) %>%\n",
    "    mutate(MinutesNotAsleepInBed = TotalTimeInBed - TotalMinutesAsleep)\n",
    "daily_activity<- daily_activity %>% \n",
    "    mutate(SedentaryHours= SedentaryMinutes/60)"
   ]
  },
  {
   "cell_type": "markdown",
   "id": "2423411f",
   "metadata": {},
   "source": [
    "# Analyze Data"
   ]
  },
  {
   "cell_type": "code",
   "execution_count": 10,
   "id": "aa4e70d4",
   "metadata": {},
   "outputs": [
    {
     "data": {
      "text/plain": [
       " TotalSleepRecords TotalHoursAsleep  TotalHoursInBed  MinutesNotAsleepInBed\n",
       " Min.   :1.00      Min.   : 0.9667   Min.   : 1.017   Min.   :  0.00       \n",
       " 1st Qu.:1.00      1st Qu.: 6.0167   1st Qu.: 6.729   1st Qu.: 17.00       \n",
       " Median :1.00      Median : 7.2083   Median : 7.717   Median : 25.50       \n",
       " Mean   :1.12      Mean   : 6.9862   Mean   : 7.641   Mean   : 39.31       \n",
       " 3rd Qu.:1.00      3rd Qu.: 8.1667   3rd Qu.: 8.767   3rd Qu.: 40.00       \n",
       " Max.   :3.00      Max.   :13.2667   Max.   :16.017   Max.   :371.00       "
      ]
     },
     "metadata": {},
     "output_type": "display_data"
    }
   ],
   "source": [
    "#Analyzing sleep_day dataframe\n",
    "sleep_day %>%  \n",
    "  select(TotalSleepRecords,\n",
    "  TotalHoursAsleep,\n",
    "  TotalHoursInBed, MinutesNotAsleepInBed) %>%\n",
    "  summary()"
   ]
  },
  {
   "cell_type": "markdown",
   "id": "367d0a59",
   "metadata": {},
   "source": [
    "* The average minutes people lay awake in bed = 39.31 mins\n",
    "* On an average people sleep ~7 hrs"
   ]
  },
  {
   "cell_type": "code",
   "execution_count": 11,
   "id": "89edb96a",
   "metadata": {},
   "outputs": [
    {
     "data": {
      "text/plain": [
       "   TotalSteps    TotalDistance    SedentaryHours \n",
       " Min.   :    0   Min.   : 0.000   Min.   : 0.00  \n",
       " 1st Qu.: 3790   1st Qu.: 2.620   1st Qu.:12.16  \n",
       " Median : 7406   Median : 5.245   Median :17.62  \n",
       " Mean   : 7638   Mean   : 5.490   Mean   :16.52  \n",
       " 3rd Qu.:10727   3rd Qu.: 7.713   3rd Qu.:20.49  \n",
       " Max.   :36019   Max.   :28.030   Max.   :24.00  "
      ]
     },
     "metadata": {},
     "output_type": "display_data"
    }
   ],
   "source": [
    "daily_activity %>%  \n",
    "  select(TotalSteps,\n",
    "         TotalDistance,\n",
    "         SedentaryHours) %>%\n",
    "  summary()"
   ]
  },
  {
   "cell_type": "markdown",
   "id": "7661b749",
   "metadata": {},
   "source": [
    "* Average Steps taken = 7638\n",
    "* Average Sedentary Hours = 16.52 hours"
   ]
  },
  {
   "cell_type": "code",
   "execution_count": 12,
   "id": "4bb89bbc",
   "metadata": {},
   "outputs": [
    {
     "data": {
      "image/png": "[encoded data removed]",
      "text/plain": [
       "plot without title"
      ]
     },
     "metadata": {},
     "output_type": "display_data"
    }
   ],
   "source": [
    "ggplot(data=sleep_day, aes(x=TotalMinutesAsleep, y=TotalTimeInBed)) + geom_point() + labs(title=\"Total Time In Bed vs. Total Minutes Asleep\")"
   ]
  },
  {
   "cell_type": "markdown",
   "id": "29953e70",
   "metadata": {},
   "source": [
    "There is a linear relation between TotalTimeInBed and TotalMinutesAsleep."
   ]
  },
  {
   "cell_type": "code",
   "execution_count": 13,
   "id": "ec8f0e81",
   "metadata": {},
   "outputs": [
    {
     "data": {
      "image/png": "[encoded data removed]",
      "text/plain": [
       "Plot with title \"Average Daily Minutes\""
      ]
     },
     "metadata": {},
     "output_type": "display_data"
    }
   ],
   "source": [
    "#Pie Chart\n",
    "x <- c(mean(daily_activity$VeryActiveMinutes), mean(daily_activity$FairlyActiveMinutes), mean(daily_activity$LightlyActiveMinutes), mean(daily_activity$SedentaryMinutes))\n",
    "labels <- c(\"VeryActiveMinutes\",\"FairlyActiveMinutes\", \"LightlyActiveMinutes\", \"SedentaryMinutes\")\n",
    "pie(x, labels = paste(round(100*x/sum(x), 2), \"%\"), main=\"Average Daily Minutes\", col=rainbow(length(x)))\n",
    "legend(\"topright\", c(\"VeryActiveMinutes\",\"FairlyActiveMinutes\", \"LightlyActiveMinutes\", \"SedentaryMinutes\"), cex = 0.8, fill=rainbow(length(x)))"
   ]
  },
  {
   "cell_type": "code",
   "execution_count": 14,
   "id": "febf0965",
   "metadata": {},
   "outputs": [
    {
     "data": {
      "image/png": "[encoded data removed]",
      "text/plain": [
       "plot without title"
      ]
     },
     "metadata": {},
     "output_type": "display_data"
    }
   ],
   "source": [
    "ggplot(hourly_intensities, aes(x=day, y=TotalIntensity)) + geom_bar(stat=\"identity\", width=0.8, fill = \"#09ba91\") + labs(title=\"Total Intensity vs. Day\")"
   ]
  },
  {
   "cell_type": "markdown",
   "id": "f6998431",
   "metadata": {},
   "source": [
    "From the graph, we can see that Sundays are the least active days."
   ]
  },
  {
   "cell_type": "code",
   "execution_count": 15,
   "id": "6798c8eb",
   "metadata": {},
   "outputs": [
    {
     "data": {
      "image/png": "[encoded data removed]",
      "text/plain": [
       "plot without title"
      ]
     },
     "metadata": {},
     "output_type": "display_data"
    }
   ],
   "source": [
    "ggplot(hourly_intensities, aes(x=Time, y=TotalIntensity)) + theme(axis.text.x = element_text(angle = 90)) + geom_bar(stat=\"identity\", width=0.5, fill = \"#ba5c09\") + labs(title=\"Total Intensity vs. Time\")"
   ]
  },
  {
   "cell_type": "markdown",
   "id": "cc53728a",
   "metadata": {},
   "source": [
    "Most of the activity takes place between 05.00 pm and 07.00 pm."
   ]
  },
  {
   "cell_type": "code",
   "execution_count": 16,
   "id": "ca094872",
   "metadata": {},
   "outputs": [
    {
     "data": {
      "image/png": "[encoded data removed]",
      "text/plain": [
       "plot without title"
      ]
     },
     "metadata": {},
     "output_type": "display_data"
    }
   ],
   "source": [
    "sleep <- melt(sleep_day[,c('Day','TotalHoursAsleep','TotalHoursInBed')],id.vars = 1)\n",
    "ggplot(sleep,aes(x = Day,y = value)) + geom_bar(aes(fill = variable),stat = \"identity\",position = \"dodge\") + labs(title=\"Comparison Between Total Hours Asleep and Total Hours In Bed\")"
   ]
  },
  {
   "cell_type": "markdown",
   "id": "1a9fecd2",
   "metadata": {},
   "source": [
    "# Summary\n",
    "The insights obtained from the analysis are:\n",
    "\n",
    "* Average Steps taken by a user daily = 7638, which is low and needs to be improved.\n",
    "* Average Sedentary Hours = 16.52 hours, this needs to be reduced.\n",
    "* The users are least active on Sundays.\n",
    "* On an average, the users lay awake in bed ~40 mins, this indicates that users find it difficult to fall asleep.\n",
    "* Also, the users only sleep ~7 hrs a day which is less and needs improvement.\n",
    "\n",
    "Based on the above insights, here are a few recommendations for the Bellabeat App:\n",
    "* The app can ask users to set goals for their daily activities (no. of steps they plan on taking daily, time when they plan to sleep, etc). And notify them about their goal.\n",
    "* The app can provide a weekly analysis to the user based on their data for each week. This will help the user to self reflect and make healthy decisions."
   ]
  }
 ],
 "metadata": {
  "kernelspec": {
   "display_name": "R",
   "language": "R",
   "name": "ir"
  },
  "language_info": {
   "codemirror_mode": "r",
   "file_extension": ".r",
   "mimetype": "text/x-r-source",
   "name": "R",
   "pygments_lexer": "r",
   "version": "3.6.1"
  }
 },
 "nbformat": 4,
 "nbformat_minor": 5
}
